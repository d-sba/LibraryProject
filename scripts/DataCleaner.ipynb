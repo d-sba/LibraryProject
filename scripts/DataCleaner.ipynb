{
 "cells": [
  {
   "cell_type": "code",
   "execution_count": 2,
   "id": "b4c0a343",
   "metadata": {},
   "outputs": [],
   "source": [
    "import pandas as pd\n",
    "from pathlib import Path"
   ]
  },
  {
   "cell_type": "code",
   "execution_count": 13,
   "id": "c3aa720d",
   "metadata": {},
   "outputs": [
    {
     "name": "stdout",
     "output_type": "stream",
     "text": [
      "Title                  object\n",
      "Original Title        float64\n",
      "Subtitle               object\n",
      "Series                 object\n",
      "Volume                float64\n",
      "                       ...   \n",
      "Previously Owned        int64\n",
      "Up Next                 int64\n",
      "Position              float64\n",
      "Uploaded Image URL     object\n",
      "Activities             object\n",
      "Length: 79, dtype: object\n"
     ]
    }
   ],
   "source": [
    "current_dir=Path().cwd()\n",
    "data_path=current_dir.parent / \"Data\" / \"raw\"/ \"RawDataFamilyBookCollection.csv\"\n",
    "\n",
    "df_raw=pd.read_csv(data_path)\n",
    "print(df_raw.dtypes)"
   ]
  },
  {
   "cell_type": "code",
   "execution_count": 15,
   "id": "f012f260",
   "metadata": {},
   "outputs": [
    {
     "name": "stdout",
     "output_type": "stream",
     "text": [
      "Index(['Title', 'Subtitle', 'Series', 'Volume', 'Author',\n",
      "       'Author (Last, First)', 'Publisher', 'Date Published', 'Year Published',\n",
      "       'Genre', 'Summary', 'Number of Pages', 'Language', 'ISBN',\n",
      "       'Physical Location', 'Google VolumeID'],\n",
      "      dtype='object')\n"
     ]
    }
   ],
   "source": [
    "valid_cols=['Title','Subtitle', 'Series', 'Volume', 'Author', 'Author (Last, First)', 'Publisher', 'Date Published', 'Year Published', 'Genre', 'Summary', 'Number of Pages', 'Language', 'ISBN', 'Physical Location', 'Google VolumeID']\n",
    "df_cleaned=df_raw[valid_cols]\n",
    "print(df_cleaned.columns)"
   ]
  },
  {
   "cell_type": "code",
   "execution_count": 16,
   "id": "d08b0969",
   "metadata": {},
   "outputs": [],
   "source": [
    "output_path = current_dir.parent / \"Data\" / \"processed\" / \"BookCollectionColumnFilteredData.csv\"\n",
    "df_cleaned.to_csv(output_path, index=False)"
   ]
  }
 ],
 "metadata": {
  "kernelspec": {
   "display_name": "base",
   "language": "python",
   "name": "python3"
  },
  "language_info": {
   "codemirror_mode": {
    "name": "ipython",
    "version": 3
   },
   "file_extension": ".py",
   "mimetype": "text/x-python",
   "name": "python",
   "nbconvert_exporter": "python",
   "pygments_lexer": "ipython3",
   "version": "3.12.3"
  }
 },
 "nbformat": 4,
 "nbformat_minor": 5
}
