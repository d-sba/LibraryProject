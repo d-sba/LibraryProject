{
 "cells": [
  {
   "cell_type": "code",
   "execution_count": 1,
   "id": "b4c0a343",
   "metadata": {},
   "outputs": [],
   "source": [
    "import pandas as pd\n",
    "from pathlib import Path"
   ]
  },
  {
   "cell_type": "code",
   "execution_count": 5,
   "id": "c3aa720d",
   "metadata": {},
   "outputs": [],
   "source": [
    "current_dir=Path().cwd()\n",
    "data_path=current_dir / \"data\" / \"raw\"/ \"RawDataFamilyBookCollection.csv\""
   ]
  },
  {
   "cell_type": "code",
   "execution_count": null,
   "id": "acb5ad85",
   "metadata": {},
   "outputs": [],
   "source": []
  }
 ],
 "metadata": {
  "kernelspec": {
   "display_name": "base",
   "language": "python",
   "name": "python3"
  },
  "language_info": {
   "codemirror_mode": {
    "name": "ipython",
    "version": 3
   },
   "file_extension": ".py",
   "mimetype": "text/x-python",
   "name": "python",
   "nbconvert_exporter": "python",
   "pygments_lexer": "ipython3",
   "version": "3.12.3"
  }
 },
 "nbformat": 4,
 "nbformat_minor": 5
}
